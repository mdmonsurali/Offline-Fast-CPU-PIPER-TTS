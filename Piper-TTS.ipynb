{
 "cells": [
  {
   "cell_type": "code",
   "execution_count": 1,
   "id": "a2f0f534-bac7-445b-b6db-c590db67e353",
   "metadata": {},
   "outputs": [],
   "source": [
    "import threading\n",
    "import os\n",
    "import subprocess"
   ]
  },
  {
   "cell_type": "code",
   "execution_count": 2,
   "id": "ada6bb17-45e9-436b-b3cb-dcc13830cf7d",
   "metadata": {},
   "outputs": [],
   "source": [
    "def text_to_speech(text):\n",
    "    def run_speech():\n",
    "        with open(os.devnull, 'w') as devnull:\n",
    "            subprocess.call(f'echo \"{text}\" | piper --model en_US-amy-medium --output_file output.wav', shell=True, stdout=devnull, stderr=subprocess.STDOUT)\n",
    "        os.system(\"aplay output.wav\")  # Use system call to play audio\n",
    "\n",
    "    tts_thread = threading.Thread(target=run_speech)\n",
    "    tts_thread.start()\n",
    "    tts_thread.join()  # Ensure the TTS completes before returning"
   ]
  },
  {
   "cell_type": "code",
   "execution_count": 3,
   "id": "17257645-85cf-43c1-ad19-7b3234eacde4",
   "metadata": {},
   "outputs": [
    {
     "name": "stderr",
     "output_type": "stream",
     "text": [
      "Playing WAVE 'output.wav' : Signed 16 bit Little Endian, Rate 22050 Hz, Mono\n"
     ]
    }
   ],
   "source": [
    "text = \"Coronavirus refers to a family of viruses known as Coronaviridae. These viruses are characterized by their crownlike spikes on their surfaces.\"\n",
    "text_to_speech(text)"
   ]
  },
  {
   "cell_type": "code",
   "execution_count": null,
   "id": "78eab10c-2055-42c3-940b-ca358cb086dc",
   "metadata": {},
   "outputs": [],
   "source": []
  }
 ],
 "metadata": {
  "kernelspec": {
   "display_name": "Python 3 (ipykernel)",
   "language": "python",
   "name": "python3"
  },
  "language_info": {
   "codemirror_mode": {
    "name": "ipython",
    "version": 3
   },
   "file_extension": ".py",
   "mimetype": "text/x-python",
   "name": "python",
   "nbconvert_exporter": "python",
   "pygments_lexer": "ipython3",
   "version": "3.10.14"
  }
 },
 "nbformat": 4,
 "nbformat_minor": 5
}
